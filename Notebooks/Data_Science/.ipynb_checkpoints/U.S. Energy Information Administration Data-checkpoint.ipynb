{
 "cells": [
  {
   "cell_type": "code",
   "execution_count": 17,
   "metadata": {},
   "outputs": [],
   "source": [
    "import quandl\n",
    "\n",
    "quandl.ApiConfig.api_key = 'N893mRXzwfPwTjjjCMwQ'\n",
    "\n",
    "#All values are in (Thousand Barrels per Day)\n",
    "weekly_petrol_products = quandl.get('EIA/PET_WRPUPUS2_W')\n",
    "weekly_other_oil_products = quandl.get('EIA/PET_WWOUP_NUS_2_W')\n",
    "weekly_finished_gasoline = quandl.get('EIA/PET_WGFUPUS2_W')\n",
    "weekly_propane_and_propylene = quandl.get('EIA/PET_WPRUP_NUS_2_W')\n",
    "weekly_residual_fuel_oil = quandl.get('EIA/PET_WREUPUS2_W')\n",
    "weekly_jet_fuel = quandl.get('EIA/PET_WKJUPUS2_W')\n",
    "weekly_distillate_fuel_oil = quandl.get('EIA/PET_WDIUPUS2_W')"
   ]
  },
  {
   "cell_type": "code",
   "execution_count": null,
   "metadata": {},
   "outputs": [],
   "source": []
  },
  {
   "cell_type": "code",
   "execution_count": null,
   "metadata": {},
   "outputs": [],
   "source": []
  }
 ],
 "metadata": {
  "kernelspec": {
   "display_name": "Python 3",
   "language": "python",
   "name": "python3"
  },
  "language_info": {
   "codemirror_mode": {
    "name": "ipython",
    "version": 3
   },
   "file_extension": ".py",
   "mimetype": "text/x-python",
   "name": "python",
   "nbconvert_exporter": "python",
   "pygments_lexer": "ipython3",
   "version": "3.7.3"
  }
 },
 "nbformat": 4,
 "nbformat_minor": 2
}
