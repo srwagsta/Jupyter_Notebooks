{
 "cells": [
  {
   "cell_type": "code",
   "execution_count": 23,
   "metadata": {},
   "outputs": [],
   "source": [
    "import quandl\n",
    "import numpy as np\n",
    "import pandas as pd\n",
    "import matplotlib.pyplot as plt\n",
    "from statsmodels.tsa.stattools import adfuller\n",
    "\n",
    "# Panda will soon require an explicit registration of matplotlib converter (Done below)\n",
    "from pandas.plotting import register_matplotlib_converters\n",
    "register_matplotlib_converters()\n",
    "\n",
    "quandl.ApiConfig.api_key = 'N893mRXzwfPwTjjjCMwQ'\n",
    "\n",
    "NYSE_num_adv = quandl.get('URC/NYSE_ADV')\n",
    "NYSE_num_decl = quandl.get('URC/NYSE_DEC')\n",
    "NYSE_num_unchg = quandl.get('URC/NYSE_UNC')\n",
    "\n",
    "NASDAQ_num_adv = quandl.get('URC/NASDAQ_ADV')\n",
    "NASDAQ_num_decl = quandl.get('URC/NASDAQ_DEC')\n",
    "NASDAQ_num_unchg = quandl.get('URC/NASDAQ_UNC')\n",
    "\n",
    "AMEX_num_adv = quandl.get('URC/AMEX_ADV')\n",
    "AMEX_num_decl = quandl.get('URC/AMEX_DEC')\n",
    "AMEX_num_unchg = quandl.get('URC/AMEX_UNC')"
   ]
  },
  {
   "cell_type": "markdown",
   "metadata": {},
   "source": [
    "*Pull Initial Data*"
   ]
  },
  {
   "cell_type": "code",
   "execution_count": 24,
   "metadata": {},
   "outputs": [],
   "source": [
    "NYSE_num_stock_set = pd.merge_asof(\n",
    "    pd.merge_asof(NYSE_num_adv, NYSE_num_decl, on='Date')\n",
    "    .rename(index=str, columns={\"Numbers of Stocks_x\": \"num_adv\", \"Numbers of Stocks_y\": \"num_dec\"}), \n",
    "    NYSE_num_unchg, on='Date').rename(index=str, columns={\"Numbers of Stocks\": \"num_unc\"})\n",
    "\n",
    "NASDAQ_num_stock_set = pd.merge_asof(\n",
    "    pd.merge_asof(NASDAQ_num_adv, NASDAQ_num_decl, on='Date')\n",
    "    .rename(index=str, columns={\"Numbers of Stocks_x\": \"num_adv\", \"Numbers of Stocks_y\": \"num_dec\"}), \n",
    "    NASDAQ_num_unchg, on='Date').rename(index=str, columns={\"Numbers of Stocks\": \"num_unc\"})\n",
    "\n",
    "AMEX_num_stock_set = pd.merge_asof(\n",
    "    pd.merge_asof(AMEX_num_adv, AMEX_num_decl, on='Date')\n",
    "    .rename(index=str, columns={\"Numbers of Stocks_x\": \"num_adv\", \"Numbers of Stocks_y\": \"num_dec\"}), \n",
    "    AMEX_num_unchg, on='Date').rename(index=str, columns={\"Numbers of Stocks\": \"num_unc\"})\n"
   ]
  },
  {
   "cell_type": "markdown",
   "metadata": {},
   "source": [
    "*Merge Data*"
   ]
  },
  {
   "cell_type": "code",
   "execution_count": null,
   "metadata": {},
   "outputs": [],
   "source": []
  },
  {
   "cell_type": "code",
   "execution_count": null,
   "metadata": {},
   "outputs": [],
   "source": []
  }
 ],
 "metadata": {
  "kernelspec": {
   "display_name": "Python 3",
   "language": "python",
   "name": "python3"
  },
  "language_info": {
   "codemirror_mode": {
    "name": "ipython",
    "version": 3
   },
   "file_extension": ".py",
   "mimetype": "text/x-python",
   "name": "python",
   "nbconvert_exporter": "python",
   "pygments_lexer": "ipython3",
   "version": "3.7.3"
  }
 },
 "nbformat": 4,
 "nbformat_minor": 2
}
